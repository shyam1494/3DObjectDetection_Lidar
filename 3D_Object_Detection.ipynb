{
 "cells": [
  {
   "cell_type": "code",
   "execution_count": 1,
   "id": "71913f79",
   "metadata": {},
   "outputs": [
    {
     "name": "stdout",
     "output_type": "stream",
     "text": [
      "Jupyter environment detected. Enabling Open3D WebVisualizer.\n",
      "[Open3D INFO] WebRTC GUI backend enabled.\n",
      "[Open3D INFO] WebRTCWindowSystem: HTTP handshake server disabled.\n"
     ]
    }
   ],
   "source": [
    "#List of Steps to get the pcd files generated from the point cliud \n",
    "import os\n",
    "import shutil\n",
    "import numpy as np\n",
    "import struct\n",
    "import numpy as np \n",
    "import time\n",
    "import open3d\n",
    "import pandas as pd \n",
    "import matplotlib.pyplot as plt"
   ]
  },
  {
   "cell_type": "code",
   "execution_count": 15,
   "id": "4e3bd006",
   "metadata": {},
   "outputs": [
    {
     "name": "stdout",
     "output_type": "stream",
     "text": [
      "53\n"
     ]
    }
   ],
   "source": [
    "imageFileList  = os.listdir(r'C:\\Users\\shyam\\OneDrive\\Pictures\\KITTI')\n",
    "print(len(imageFileList))"
   ]
  },
  {
   "cell_type": "code",
   "execution_count": null,
   "id": "5fb0c510",
   "metadata": {},
   "outputs": [],
   "source": [
    "folderPath = r'D:\\3rd Semester\\Machine Vision\\Project\\training\\data_object_velodyne\\training\\velodyne'\n",
    "destination = r'C:\\Users\\shyam\\OneDrive\\Pictures\\KITTIBIN'\n",
    "\n",
    "KittiDataset = os.listdir(folderPath)\n",
    "\n",
    "for filename in KittiDataset:\n",
    "    for binfiles in imageFileList:\n",
    "        binfiles = os.path.splitext(binfiles)[0]+\".bin\" \n",
    "        file = os.path.join(folderPath,binfiles)\n",
    "        if binfiles in filename:\n",
    "            print(file)\n",
    "            shutil.copy(file,destination)\n",
    "        else:\n",
    "             pass"
   ]
  },
  {
   "cell_type": "code",
   "execution_count": null,
   "id": "622a67ba",
   "metadata": {},
   "outputs": [],
   "source": [
    "def generate_pcd(file_to_open,file_to_save):\n",
    "    size_float = 4\n",
    "    list_pcd = []\n",
    "    with open (file_to_open, \"rb\") as f:\n",
    "        byte = f.read(size_float*4)\n",
    "        while byte:\n",
    "            x,y,z,intensity = struct.unpack(\"ffff\", byte)\n",
    "            list_pcd.append([x, y, z])\n",
    "            byte = f.read(size_float*4)\n",
    "    np_pcd = np.asarray(list_pcd)\n",
    "    pcd = open3d.geometry.PointCloud()\n",
    "    v3d = open3d.utility.Vector3dVector\n",
    "    pcd.points = v3d(np_pcd)\n",
    "    open3d.io.write_point_cloud(file_to_save, pcd)"
   ]
  },
  {
   "cell_type": "code",
   "execution_count": null,
   "id": "5b6069a0",
   "metadata": {},
   "outputs": [],
   "source": [
    "source = r'C:\\Users\\shyam\\OneDrive\\Pictures\\KITTIBIN' \n",
    "dest = r'C:\\Users\\shyam\\OneDrive\\Pictures\\KITTIPCD'\n",
    "binfiles = r'C:\\Users\\shyam\\OneDrive\\Pictures\\KITTIBIN'\n",
    "for binfiles in os.listdir(binfiles):\n",
    "    pointClouds = os.path.splitext(binfiles)[0]+\".pcd\"\n",
    "    files_to_open = os.path.join(source,binfiles)\n",
    "    files_to_save = os.path.join(dest,pointClouds)\n",
    "    print(files_to_save)\n",
    "    generate_pcd(files_to_open,files_to_save)\n",
    "    "
   ]
  },
  {
   "cell_type": "code",
   "execution_count": 2,
   "id": "265ecc1b",
   "metadata": {},
   "outputs": [
    {
     "name": "stdout",
     "output_type": "stream",
     "text": [
      "115777\n"
     ]
    }
   ],
   "source": [
    "pcd = open3d.io.read_point_cloud(r'C:\\Users\\shyam\\OneDrive\\Pictures\\KITTIPCD\\000339.pcd')\n",
    "\n",
    "open3d.visualization.draw_geometries(([pcd]))\n",
    "print(len(pcd.points))"
   ]
  },
  {
   "cell_type": "code",
   "execution_count": 104,
   "id": "3434f7a2",
   "metadata": {},
   "outputs": [
    {
     "name": "stdout",
     "output_type": "stream",
     "text": [
      "Point clouds before Voxel downsampling : 113272\n",
      "points after Voxel downsampling : 78817\n"
     ]
    }
   ],
   "source": [
    "#Step 2 : Voxel Downsampling:\n",
    "print('before downsampling:' , len(pcd.points))\n",
    "downsample = pcd.voxel_down_sample(voxel_size=0.05)\n",
    "print('fter Voxel downsampling :', len(downsample.points))\n",
    "# open3d.visualization.draw_geometries([downsample])"
   ]
  },
  {
   "cell_type": "code",
   "execution_count": 105,
   "id": "8a231743",
   "metadata": {},
   "outputs": [
    {
     "name": "stdout",
     "output_type": "stream",
     "text": [
      "time consumed 2.2794361114501953\n"
     ]
    }
   ],
   "source": [
    "#Segmentation : RANSAC\n",
    "\n",
    "plane_model, inliers = downsample.segment_plane(distance_threshold=0.3,\n",
    "                                      ransac_n=3,\n",
    "                                      num_iterations=250)\n",
    "inlier_cloud=downsample.select_by_index(inliers)\n",
    "outlier_cloud=downsample.select_by_index(inliers,invert=True)\n",
    "inlier_cloud.paint_uniform_color([1,0,0])#Inliers - Red\n",
    "outlier_cloud.paint_uniform_color([0,0,1])# Outliers - Blue\n",
    "open3d.visualization.draw_geometries([inlier_cloud,outlier_cloud])\n",
    "\n"
   ]
  },
  {
   "cell_type": "code",
   "execution_count": 106,
   "id": "8703e56a",
   "metadata": {},
   "outputs": [
    {
     "name": "stdout",
     "output_type": "stream",
     "text": [
      "[Open3D DEBUG] Precompute neighbors.\n",
      "[Open3D DEBUG] Done Precompute neighbors.\n",
      "[Open3D DEBUG] Compute Clusters\n",
      "[Open3D DEBUG] Done Compute Clusters: 296\n",
      "point cloud has 296 clusters\n"
     ]
    }
   ],
   "source": [
    "# Clustering - DBScan\n",
    "with open3d.utility.VerbosityContextManager(open3d.utility.VerbosityLevel.Debug) as cm:\n",
    "    labels = np.array(outlier_cloud.cluster_dbscan(eps=0.5,min_points=5,print_progress=True))\n",
    "max_label = labels.max()\n",
    "print(f\"point cloud has {max_label + 1} clusters\")\n",
    "colors = plt.get_cmap(\"tab20\")(labels/(max_label if max_label > 0 else 1))\n",
    "colors[labels < 0] = 0\n",
    "outlier_cloud.colors = open3d.utility.Vector3dVector(colors[:,:3])\n",
    "# open3d.visualization.draw_geometries([inlier_cloud,outlier_cloud])"
   ]
  },
  {
   "cell_type": "code",
   "execution_count": 107,
   "id": "04a72bd1",
   "metadata": {},
   "outputs": [
    {
     "name": "stdout",
     "output_type": "stream",
     "text": [
      "297\n"
     ]
    }
   ],
   "source": [
    "obbs = []\n",
    "indexes = pd.Series(range(len(labels))).groupby(labels,sort=False).apply(list).tolist()\n",
    "print(len(indexes))"
   ]
  },
  {
   "cell_type": "code",
   "execution_count": 110,
   "id": "c0555e64",
   "metadata": {},
   "outputs": [],
   "source": [
    "Max_points = 1000\n",
    "Min_points =  10\n",
    "clusters = []\n",
    "for i in range(0,len(indexes)):\n",
    "    nb_pts = len(outlier_cloud.select_by_index(indexes[i]).points)\n",
    "    if(nb_pts > Min_points and nb_pts < Max_points):\n",
    "        sub_cloud = outlier_cloud.select_by_index(indexes[i])\n",
    "        obb = sub_cloud.get_axis_aligned_bounding_box()\n",
    "        obb.color=(0,0,1)\n",
    "        obbs.append(obb)"
   ]
  },
  {
   "cell_type": "code",
   "execution_count": null,
   "id": "d66fbbc2",
   "metadata": {},
   "outputs": [],
   "source": [
    "list_of_visuals=[]\n",
    "list_of_visuals.append(outlier_cloud)\n",
    "list_of_visuals.extend(obbs)\n",
    "list_of_visuals.append(inlier_cloud)\n",
    "open3d.visualization.draw_geometries(list_of_visuals)"
   ]
  },
  {
   "cell_type": "code",
   "execution_count": null,
   "id": "f753d0f9",
   "metadata": {},
   "outputs": [],
   "source": []
  }
 ],
 "metadata": {
  "kernelspec": {
   "display_name": "Python 3.7.0 64-bit",
   "language": "python",
   "name": "python3"
  },
  "language_info": {
   "codemirror_mode": {
    "name": "ipython",
    "version": 3
   },
   "file_extension": ".py",
   "mimetype": "text/x-python",
   "name": "python",
   "nbconvert_exporter": "python",
   "pygments_lexer": "ipython3",
   "version": "3.7.0"
  },
  "vscode": {
   "interpreter": {
    "hash": "46decf7c3ed8b597c670d529d1f8c5d2fe8750a095cab9299eb76cecb2b75e8f"
   }
  }
 },
 "nbformat": 4,
 "nbformat_minor": 5
}
